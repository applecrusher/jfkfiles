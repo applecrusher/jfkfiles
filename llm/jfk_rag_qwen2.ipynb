{
 "cells": [
  {
   "cell_type": "code",
   "execution_count": null,
   "metadata": {},
   "outputs": [],
   "source": [
    "# 📌 Cell 1: Imports & Setup\n",
    "from langchain.vectorstores import FAISS\n",
    "from langchain.embeddings import HuggingFaceEmbeddings\n",
    "from transformers import AutoTokenizer, AutoModelForCausalLM, pipeline\n",
    "import torch\n",
    "\n",
    "# Load FAISS index\n",
    "INDEX_DIR = \"./faiss_index\"\n",
    "EMBED_MODEL = \"intfloat/e5-base-v2\"\n",
    "GEN_MODEL = \"Qwen/Qwen2.5-14B\"\n",
    "\n",
    "retriever = FAISS.load_local(INDEX_DIR, HuggingFaceEmbeddings(model_name=EMBED_MODEL), allow_dangerous_deserialization=True)\n",
    "\n",
    "# Load Qwen2.5 base model (not chat version)\n",
    "tokenizer = AutoTokenizer.from_pretrained(GEN_MODEL, trust_remote_code=True)\n",
    "model = AutoModelForCausalLM.from_pretrained(\n",
    "    GEN_MODEL,\n",
    "    trust_remote_code=True,\n",
    "    device_map=\"auto\",\n",
    "    torch_dtype=torch.float16\n",
    ")\n",
    "model.eval()\n"
   ]
  },
  {
   "cell_type": "code",
   "execution_count": null,
   "metadata": {},
   "outputs": [],
   "source": [
    "# 📌 Cell 2: Helper — Format Prompt with Retrieved Docs\n",
    "def build_prompt(question, docs, max_docs=3):\n",
    "    context = \"\\n\\n\".join([f\"Document {i+1}:\\n{doc.page_content}\" for i, doc in enumerate(docs[:max_docs])])\n",
    "    return f\"\"\"You are a historical researcher analyzing government records.\n",
    "\n",
    "Use the following documents to answer the question.\n",
    "\n",
    "{context}\n",
    "\n",
    "Question: {question}\n",
    "Answer:\"\"\"\n"
   ]
  },
  {
   "cell_type": "code",
   "execution_count": null,
   "metadata": {},
   "outputs": [],
   "source": [
    "# 📌 Cell 3: Ask a Question\n",
    "def ask_question(question, k=5, max_tokens=512):\n",
    "    # Retrieve docs\n",
    "    docs = retriever.similarity_search(question, k=k)\n",
    "    \n",
    "    # Build prompt\n",
    "    prompt = build_prompt(question, docs)\n",
    "    \n",
    "    # Tokenize\n",
    "    inputs = tokenizer(prompt, return_tensors=\"pt\").to(model.device)\n",
    "    \n",
    "    # Generate\n",
    "    output = model.generate(\n",
    "        **inputs,\n",
    "        max_new_tokens=max_tokens,\n",
    "        do_sample=True,\n",
    "        temperature=0.7,\n",
    "        top_p=0.9,\n",
    "        pad_token_id=tokenizer.eos_token_id\n",
    "    )\n",
    "    \n",
    "    # Decode\n",
    "    answer = tokenizer.decode(output[0], skip_special_tokens=True)\n",
    "    print(\"🧠 Model Answer:\\n\", answer[len(prompt):].strip())\n"
   ]
  }
 ],
 "metadata": {
  "kernelspec": {
   "display_name": "ai",
   "language": "python",
   "name": "python3"
  },
  "language_info": {
   "name": "python",
   "version": "3.11.11"
  }
 },
 "nbformat": 4,
 "nbformat_minor": 2
}
